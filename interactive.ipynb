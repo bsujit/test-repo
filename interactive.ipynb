{
 "cells": [
  {
   "cell_type": "code",
   "execution_count": 3,
   "id": "034de9fb",
   "metadata": {},
   "outputs": [
    {
     "name": "stdout",
     "output_type": "stream",
     "text": [
      "Hello, World!\n",
      "Welcome to Python programming!\n",
      "The answer to 2 + 2 is: 4\n"
     ]
    }
   ],
   "source": [
    "print(\"Hello, World!\")\n",
    "print(\"Welcome to Python programming!\")\n",
    "#     print(\"File not found! Make sure to run write_student_data() first.\")\n",
    "#\n",
    "#\n",
    "# if __name__ == \"__main__\":\n",
    "#     write_to_file()\n",
    "#     read_entire_file()\n",
    "#     read_line_by_line()\n",
    "#     append_to_file()\n",
    "#     write_student_data()\n",
    "#     read_student_data()\n",
    "# This is your first Python program!\n",
    "# You can print numbers too\n",
    "print(\"The answer to 2 + 2 is:\", 2 + 2)\n",
    "# You can also print variables"
   ]
  }
 ],
 "metadata": {
  "kernelspec": {
   "display_name": "Python 3",
   "language": "python",
   "name": "python3"
  },
  "language_info": {
   "codemirror_mode": {
    "name": "ipython",
    "version": 3
   },
   "file_extension": ".py",
   "mimetype": "text/x-python",
   "name": "python",
   "nbconvert_exporter": "python",
   "pygments_lexer": "ipython3",
   "version": "3.13.4"
  }
 },
 "nbformat": 4,
 "nbformat_minor": 5
}
